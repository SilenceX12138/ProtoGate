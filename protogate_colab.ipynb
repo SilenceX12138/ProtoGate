{
  "cells": [
    {
      "attachments": {},
      "cell_type": "markdown",
      "metadata": {},
      "source": [
        "# Colab Notebook for ProtoGate"
      ]
    },
    {
      "attachments": {},
      "cell_type": "markdown",
      "metadata": {
        "id": "W6oUUiT1ROmo"
      },
      "source": [
        "## Step1: Set up environment"
      ]
    },
    {
      "attachments": {},
      "cell_type": "markdown",
      "metadata": {
        "id": "jNkOfQrms2iy"
      },
      "source": [
        "### Sync flles and repositories"
      ]
    },
    {
      "cell_type": "code",
      "execution_count": null,
      "metadata": {
        "colab": {
          "base_uri": "https://localhost:8080/"
        },
        "id": "PvzvPutVqfIA",
        "outputId": "c10bffc0-d8af-46a1-d831-2f3f9a7101fa"
      },
      "outputs": [],
      "source": [
        "# Install WandB for full logging of training and evaluation\n",
        "!pip install wandb\n",
        "!wandb login"
      ]
    },
    {
      "cell_type": "code",
      "execution_count": null,
      "metadata": {
        "colab": {
          "base_uri": "https://localhost:8080/"
        },
        "id": "ytqOqd4Lmzgh",
        "outputId": "11b4740f-471f-462e-8db4-53ebff871e14"
      },
      "outputs": [],
      "source": [
        "# Mount the Google Drive to Google Colab\n",
        "from google.colab import drive\n",
        "drive.mount('/content/drive')"
      ]
    },
    {
      "cell_type": "code",
      "execution_count": null,
      "metadata": {
        "id": "HYQPpQczJyw6"
      },
      "outputs": [],
      "source": [
        "# Set up the path of codebase\n",
        "project_path = '/path/to/codebase/'"
      ]
    },
    {
      "cell_type": "code",
      "execution_count": null,
      "metadata": {
        "colab": {
          "base_uri": "https://localhost:8080/"
        },
        "id": "slsjblKNJ8ft",
        "outputId": "20bb0a18-9fa6-44cf-9c8a-ab640e4719fb"
      },
      "outputs": [],
      "source": [
        "%cd {project_path}"
      ]
    },
    {
      "cell_type": "code",
      "execution_count": null,
      "metadata": {
        "colab": {
          "base_uri": "https://localhost:8080/"
        },
        "id": "uk9acNpQfBmf",
        "outputId": "27dcdb0b-90e0-47a7-97dc-9f456208e78b"
      },
      "outputs": [],
      "source": [
        "# TabNet library installation does not support PyTorch 2.0\n",
        "!pip install --no-dependencies pytorch-tabnet"
      ]
    },
    {
      "cell_type": "code",
      "execution_count": null,
      "metadata": {
        "colab": {
          "base_uri": "https://localhost:8080/",
          "height": 1000
        },
        "id": "8c7iNzAVC9Av",
        "outputId": "76f45e2c-bb5f-40b0-c00a-fe3947735932"
      },
      "outputs": [],
      "source": [
        "!pip install -r colab_requirements.txt"
      ]
    },
    {
      "attachments": {},
      "cell_type": "markdown",
      "metadata": {
        "id": "oYKtQK50svLc"
      },
      "source": [
        "### Display Version"
      ]
    },
    {
      "cell_type": "code",
      "execution_count": null,
      "metadata": {
        "colab": {
          "base_uri": "https://localhost:8080/"
        },
        "id": "-ZiUFf2EngYs",
        "outputId": "81b7132c-86d4-47dc-e848-41fac7244d18"
      },
      "outputs": [],
      "source": [
        "!python --version"
      ]
    },
    {
      "cell_type": "code",
      "execution_count": null,
      "metadata": {
        "colab": {
          "base_uri": "https://localhost:8080/"
        },
        "id": "4jRxp58inHJc",
        "outputId": "48488416-3fc8-4986-e862-128cc89c14ee"
      },
      "outputs": [],
      "source": [
        "!nvidia-smi"
      ]
    },
    {
      "attachments": {},
      "cell_type": "markdown",
      "metadata": {
        "id": "VwcmjfJptESW"
      },
      "source": [
        "## Step2: Run an experiment on a data split"
      ]
    },
    {
      "cell_type": "code",
      "execution_count": null,
      "metadata": {
        "colab": {
          "base_uri": "https://localhost:8080/"
        },
        "id": "d2iA4mJoCKu-",
        "outputId": "6d9ced61-2510-424d-8a8c-67ff7b02646d"
      },
      "outputs": [],
      "source": [
        "# Choose the script for experiment\n",
        "script_file = 'scripts/PROTOGATE/run_exp_protogate_real.sh'\n",
        "!bash {script_file}"
      ]
    }
  ],
  "metadata": {
    "accelerator": "GPU",
    "colab": {
      "gpuType": "T4",
      "provenance": []
    },
    "gpuClass": "premium",
    "kernelspec": {
      "display_name": "Python 3",
      "name": "python3"
    },
    "language_info": {
      "name": "python"
    }
  },
  "nbformat": 4,
  "nbformat_minor": 0
}
